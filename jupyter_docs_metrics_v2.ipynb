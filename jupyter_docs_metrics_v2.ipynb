{
 "cells": [
  {
   "cell_type": "markdown",
   "id": "418f504b-ba1a-4ceb-94e0-769bbac2c43a",
   "metadata": {},
   "source": [
    "# Jupyter Documentation Stats Exploration (v2)\n",
    "____\n",
    "* Explore traffic and search stats for Jupyter subprojects\n",
    "* Download combined (merged multi-CSV) traffic and search data\n",
    "* Visit the **[Jupyter Docs Working Group](https://github.com/jupyter/docs-team-compass)**'s stats **[repo](https://github.com/ericsnekbytes/jupyter_docs_metrics)** for more info/raw CSVs\n",
    "  * If you're not using a clone of the repo, the ReadTheDocs CSV utility class is **[here](https://github.com/ericsnekbytes/jupyter_docs_metrics/blob/main/doc_metrics.py)**\n",
    "  * You can drop the **[doc_metrics.py module (raw)](https://raw.githubusercontent.com/ericsnekbytes/jupyter_docs_metrics/main/doc_metrics.py)** next to this notebook to import"
   ]
  },
  {
   "cell_type": "code",
   "execution_count": 1,
   "id": "a886faa3-06d6-4baa-9ebb-25b882c6309b",
   "metadata": {},
   "outputs": [],
   "source": [
    "import os\n",
    "import re\n",
    "import requests\n",
    "import traceback\n",
    "import urllib.parse\n",
    "\n",
    "# Import the CSV wrapper utils (from the stats repo, more info above)\n",
    "from doc_metrics import csv_to_rows_of_strings, RowColumnView, Metrics"
   ]
  },
  {
   "cell_type": "code",
   "execution_count": 2,
   "id": "ba7e520d-acc0-4d00-bcfe-08f388df3ae6",
   "metadata": {},
   "outputs": [],
   "source": [
    "# Write CSV files here\n",
    "output_folder = 'fetched_data'\n",
    "\n",
    "# GitHub fetch URLs\n",
    "base_url = r'https://raw.githubusercontent.com/ericsnekbytes/jupyter_docs_metrics/main/metrics_output/{uname}/{fname}'\n",
    "traffic_suffix = '_traffic.csv'\n",
    "search_suffix = '_search.csv'"
   ]
  },
  {
   "cell_type": "code",
   "execution_count": 3,
   "id": "7a94b14b-6975-4857-89a3-0ded6d97acf0",
   "metadata": {},
   "outputs": [],
   "source": [
    "# Build URLs for traffic and search data for each subproject\n",
    "subproject_list = [  # The proj folder name in GitHub subproject_csvs folder\n",
    "    'nbformat',\n",
    "    'Enterprise Gateway',\n",
    "    'ipywidgets',\n",
    "    'Jupyter Client',\n",
    "    'Jupyter Events',\n",
    "    'Lumino',\n",
    "    'JupyterHub',\n",
    "    'Jupyter Notebook',\n",
    "    'Lab Server',\n",
    "    'nbconvert',\n",
    "    'JupyterLab',\n",
    "    'Terminado',\n",
    "    'Jupyter Server',\n",
    "    'Traitlets',\n",
    "    'Jupyter',\n",
    "    'ipykernel',\n",
    "]\n",
    "subproject_info = {  # Hold file metadata per project here\n",
    "    proj_name: {\n",
    "        'URLS': {\n",
    "            'TRAFFIC': base_url.format(uname=urllib.parse.quote(proj_name), fname=proj_name.replace(' ', '_')) + traffic_suffix,\n",
    "            'SEARCH': base_url.format(uname=urllib.parse.quote(proj_name), fname=proj_name.replace(' ', '_')) + search_suffix,\n",
    "        },\n",
    "        'TRAFFIC_PATH': None,  # Hold fetched data here\n",
    "        'SEARCH_PATH': None,  # Hold fetched data here\n",
    "    } for proj_name in subproject_list\n",
    "}"
   ]
  },
  {
   "cell_type": "code",
   "execution_count": 4,
   "id": "7c8e4828-3dd0-4a2c-99a4-19c974013265",
   "metadata": {},
   "outputs": [
    {
     "name": "stdout",
     "output_type": "stream",
     "text": [
      "[OK] File \"nbformat_traffic.csv\" (Status 200) -> Bytes: 66673\n",
      "[OK] File \"nbformat_search.csv\" (Status 200) -> Bytes: 5662\n",
      "[OK] File \"Enterprise_Gateway_traffic.csv\" (Status 200) -> Bytes: 255600\n",
      "[OK] File \"Enterprise_Gateway_search.csv\" (Status 200) -> Bytes: 7105\n",
      "[OK] File \"ipywidgets_traffic.csv\" (Status 200) -> Bytes: 1087703\n",
      "[OK] File \"ipywidgets_search.csv\" (Status 200) -> Bytes: 345665\n",
      "[OK] File \"Jupyter_Client_traffic.csv\" (Status 200) -> Bytes: 147791\n",
      "[OK] File \"Jupyter_Client_search.csv\" (Status 200) -> Bytes: 9770\n",
      "[OK] File \"Jupyter_Events_traffic.csv\" (Status 200) -> Bytes: 15773\n",
      "[E] Error (Status 404) for \"Jupyter_Events_search.csv\"\n",
      "[OK] File \"Lumino_traffic.csv\" (Status 200) -> Bytes: 19346\n",
      "[OK] File \"Lumino_search.csv\" (Status 200) -> Bytes: 856\n",
      "[OK] File \"JupyterHub_traffic.csv\" (Status 200) -> Bytes: 2360259\n",
      "[OK] File \"JupyterHub_search.csv\" (Status 200) -> Bytes: 90093\n",
      "[OK] File \"Jupyter_Notebook_traffic.csv\" (Status 200) -> Bytes: 1473820\n",
      "[OK] File \"Jupyter_Notebook_search.csv\" (Status 200) -> Bytes: 245700\n",
      "[OK] File \"Lab_Server_traffic.csv\" (Status 200) -> Bytes: 57866\n",
      "[OK] File \"Lab_Server_search.csv\" (Status 200) -> Bytes: 1730\n",
      "[OK] File \"nbconvert_traffic.csv\" (Status 200) -> Bytes: 359871\n",
      "[OK] File \"nbconvert_search.csv\" (Status 200) -> Bytes: 38287\n",
      "[OK] File \"JupyterLab_traffic.csv\" (Status 200) -> Bytes: 2469896\n",
      "[OK] File \"JupyterLab_search.csv\" (Status 200) -> Bytes: 462674\n",
      "[OK] File \"Terminado_traffic.csv\" (Status 200) -> Bytes: 6477\n",
      "[OK] File \"Terminado_search.csv\" (Status 200) -> Bytes: 71\n",
      "[OK] File \"Jupyter_Server_traffic.csv\" (Status 200) -> Bytes: 302907\n",
      "[OK] File \"Jupyter_Server_search.csv\" (Status 200) -> Bytes: 31828\n",
      "[OK] File \"Traitlets_traffic.csv\" (Status 200) -> Bytes: 50870\n",
      "[OK] File \"Traitlets_search.csv\" (Status 200) -> Bytes: 7517\n",
      "[OK] File \"Jupyter_traffic.csv\" (Status 200) -> Bytes: 438097\n",
      "[OK] File \"Jupyter_search.csv\" (Status 200) -> Bytes: 191097\n",
      "[OK] File \"ipykernel_traffic.csv\" (Status 200) -> Bytes: 43167\n",
      "[OK] File \"ipykernel_search.csv\" (Status 200) -> Bytes: 2461\n"
     ]
    }
   ],
   "source": [
    "# Make an output folder for fetched CSV files\n",
    "os.makedirs(output_folder, exist_ok=True)\n",
    "OVERWRITE_FILES = False\n",
    "\n",
    "# Fetch and write CSVs to disk\n",
    "for pname, pinfo in subproject_info.items():\n",
    "    traffic_url, search_url = pinfo['URLS'].values()\n",
    "\n",
    "    for pth in [traffic_url, search_url]:\n",
    "        try:\n",
    "            if pth is None:\n",
    "                print(f'[E] Bad path: \"{pth}\"')\n",
    "                continue\n",
    "\n",
    "            resp = requests.get(pth)\n",
    "            if resp.ok:\n",
    "                output_path = os.path.join(output_folder, os.path.basename(pth))\n",
    "                if not OVERWRITE_FILES and os.path.exists(output_path):\n",
    "                    raise Exception('Error, overwrite files is disabled. Change OVERWRITE_FILES to True to clobber any old data.')\n",
    "\n",
    "                written = 0\n",
    "                with open(output_path, 'wb') as fhandle:\n",
    "                    written = fhandle.write(resp.content)\n",
    "                key = 'TRAFFIC_PATH' if 'traffic' in pth else 'SEARCH_PATH'\n",
    "                pinfo[key] = output_path\n",
    "                print(f'[OK] File \"{os.path.basename(pth)}\" (Status {resp.status_code}) -> Bytes: {written}')\n",
    "            else:\n",
    "                print(f'[E] Error (Status {resp.status_code}) for \"{os.path.basename(pth)}\"')\n",
    "                continue\n",
    "        except Exception as err:\n",
    "            print(f'{traceback.format_exc()}\\n\\n[E] Error fetching data, read more above...')"
   ]
  },
  {
   "cell_type": "code",
   "execution_count": 5,
   "id": "2652116e-d182-4101-8ed4-662550d1eb7d",
   "metadata": {},
   "outputs": [],
   "source": [
    "# Pull out a single example, build metrics and explore\n",
    "lab_traffic_path = subproject_info['JupyterLab']['TRAFFIC_PATH']\n",
    "lab_traffic = Metrics.build(path=lab_traffic_path)"
   ]
  },
  {
   "cell_type": "code",
   "execution_count": 6,
   "id": "96b6746f-f6fb-4b86-aabc-eed604d7abdf",
   "metadata": {},
   "outputs": [
    {
     "name": "stdout",
     "output_type": "stream",
     "text": [
      "Lab traffic is RowColumnView: True\n",
      "\n",
      "Class RowColumnView\n",
      "\n",
      "Lightweight row index or column-name indexable lists of cell values.\n",
      "    Headers are separated/removed from data rows.\n",
      "    Supports:\n",
      "        - for row in mydata:\n",
      "              # Do something with the row\n",
      "        - mydata.headers()\n",
      "        - len(mydata)  # Only counts data rows (not headers)\n",
      "        - Index on rows or columns:\n",
      "              mydata[51]  # Row at index 51\n",
      "              mydata['Date']  # Date column\n",
      "        - Get cells from rows or columns by column name\n",
      "              mydata[51][mydata.col_index('Date')]\n",
      "              mydata['Date'][51]\n",
      "        - \"ColumnName\" in mydata  # Check if sheet has header/column name\n",
      "        - Lazy load rows/columns with rowsi(), columni(), columnsi()\n",
      "    \n"
     ]
    }
   ],
   "source": [
    "# Show some basic info about the simple 2d string list wrapper class\n",
    "print(f'Lab traffic is RowColumnView: {isinstance(lab_traffic, RowColumnView)}\\n')\n",
    "info = re.split(r'\\n+', RowColumnView.__doc__)\n",
    "print(f'Class {RowColumnView.__name__}\\n\\n' + '\\n'.join(info))  # Show the docstring/help message"
   ]
  },
  {
   "cell_type": "code",
   "execution_count": 7,
   "id": "76cdb234-18aa-46ca-adac-2d61531d56f2",
   "metadata": {},
   "outputs": [
    {
     "data": {
      "text/plain": [
       "['Date', 'Version', 'Path', 'Views']"
      ]
     },
     "execution_count": 7,
     "metadata": {},
     "output_type": "execute_result"
    }
   ],
   "source": [
    "lab_traffic.headers()"
   ]
  },
  {
   "cell_type": "code",
   "execution_count": 8,
   "id": "e8cfe9df-e3cc-432c-9e28-34322f168763",
   "metadata": {},
   "outputs": [
    {
     "data": {
      "text/plain": [
       "[['2024-04-10 00:00:00', 'latest', '/user/custom_css.html', '1'],\n",
       " ['2024-04-10 00:00:00', '4.0.x', '/user/extensions.html', '1'],\n",
       " ['2024-04-10 00:00:00', '3.1.x', '/getting_started/starting.html', '1'],\n",
       " ['2024-04-10 00:00:00', '3.4.x', '/getting_started/issue.html', '1'],\n",
       " ['2024-04-10 00:00:00', '3.3.x', '/user/code_console.html', '2']]"
      ]
     },
     "execution_count": 8,
     "metadata": {},
     "output_type": "execute_result"
    }
   ],
   "source": [
    "lab_traffic.rows()[:5]"
   ]
  },
  {
   "cell_type": "code",
   "execution_count": 9,
   "id": "019c7fb8-85f4-40f8-8f06-ac4865984089",
   "metadata": {},
   "outputs": [
    {
     "data": {
      "text/plain": [
       "1046223"
      ]
     },
     "execution_count": 9,
     "metadata": {},
     "output_type": "execute_result"
    }
   ],
   "source": [
    "lab_traffic.total_views()"
   ]
  },
  {
   "cell_type": "code",
   "execution_count": 10,
   "id": "9f8daeb5-e963-46dd-a79d-49594cc00c60",
   "metadata": {},
   "outputs": [
    {
     "data": {
      "text/plain": [
       "[('/index.html', 183719),\n",
       " ('/getting_started/installation.html', 179258),\n",
       " ('/getting_started/starting.html', 95905),\n",
       " ('/getting_started/overview.html', 68575),\n",
       " ('/privacy_policies.html', 40326)]"
      ]
     },
     "execution_count": 10,
     "metadata": {},
     "output_type": "execute_result"
    }
   ],
   "source": [
    "lab_traffic.most_popular_pages(5)"
   ]
  },
  {
   "cell_type": "code",
   "execution_count": 11,
   "id": "6624faca-b188-4488-843b-53d159d36284",
   "metadata": {},
   "outputs": [
    {
     "data": {
      "text/plain": [
       "[('stable', 643525),\n",
       " ('latest', 308051),\n",
       " ('3.6.x', 41259),\n",
       " ('1.2.x', 12183),\n",
       " ('3.5.x', 8281)]"
      ]
     },
     "execution_count": 11,
     "metadata": {},
     "output_type": "execute_result"
    }
   ],
   "source": [
    "lab_traffic.most_popular_versions(5)"
   ]
  },
  {
   "cell_type": "code",
   "execution_count": 12,
   "id": "cb5d196b-8360-48a6-86f6-1d3e30231106",
   "metadata": {},
   "outputs": [
    {
     "data": {
      "text/plain": [
       "[['Date', 'Version', 'Path', 'Views'],\n",
       " ['2024-04-10 00:00:00', 'latest', '/user/custom_css.html', '1'],\n",
       " ['2024-04-10 00:00:00', '4.0.x', '/user/extensions.html', '1'],\n",
       " ['2024-04-10 00:00:00', '3.1.x', '/getting_started/starting.html', '1'],\n",
       " ['2024-04-10 00:00:00', '3.4.x', '/getting_started/issue.html', '1'],\n",
       " ['2024-04-10 00:00:00', '3.3.x', '/user/code_console.html', '2'],\n",
       " ['2024-04-10 00:00:00', '3.2.x', '/extension/virtualdom.html', '1'],\n",
       " ['2024-04-10 00:00:00', '1.2.x', '/developer/notebook.html', '1'],\n",
       " ['2024-04-10 00:00:00', '3.2.x', '/developer/patterns.html', '1'],\n",
       " ['2024-04-10 00:00:00', '2.2.x', '/user/file_formats.html', '1']]"
      ]
     },
     "execution_count": 12,
     "metadata": {},
     "output_type": "execute_result"
    }
   ],
   "source": [
    "# Get the raw data (rows of strings) to process yourself\n",
    "# (un-merged raw CSV data is also available in the repo)\n",
    "string_rows = [lab_traffic.headers()] + lab_traffic.rows()\n",
    "string_rows[:10]"
   ]
  },
  {
   "cell_type": "code",
   "execution_count": null,
   "id": "b74846c5-5fe3-483b-8306-7531f622c3ad",
   "metadata": {},
   "outputs": [],
   "source": []
  }
 ],
 "metadata": {
  "kernelspec": {
   "display_name": "Python 3 (ipykernel)",
   "language": "python",
   "name": "python3"
  },
  "language_info": {
   "codemirror_mode": {
    "name": "ipython",
    "version": 3
   },
   "file_extension": ".py",
   "mimetype": "text/x-python",
   "name": "python",
   "nbconvert_exporter": "python",
   "pygments_lexer": "ipython3",
   "version": "3.11.8"
  }
 },
 "nbformat": 4,
 "nbformat_minor": 5
}
