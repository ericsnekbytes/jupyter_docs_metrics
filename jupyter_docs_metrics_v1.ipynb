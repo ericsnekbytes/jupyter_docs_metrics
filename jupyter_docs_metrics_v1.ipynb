{
 "cells": [
  {
   "cell_type": "code",
   "execution_count": null,
   "id": "a886faa3-06d6-4baa-9ebb-25b882c6309b",
   "metadata": {},
   "outputs": [],
   "source": [
    "import matplotlib as mpl\n",
    "import matplotlib.pyplot as plt\n",
    "import numpy as np\n",
    "import re\n",
    "\n",
    "from doc_metrics import csv_to_rows_of_strings, RowColumnView, Metrics"
   ]
  },
  {
   "cell_type": "code",
   "execution_count": null,
   "id": "d9dcdeab-3f3f-43b3-9297-34842653b25c",
   "metadata": {
    "scrolled": true
   },
   "outputs": [],
   "source": [
    "# Traffic metrics for subsequent days, combined\n",
    "day_a = r'readthedocs_traffic_analytics_jupyterlab_2023-12-05_2024-03-04.csv'\n",
    "day_a_plus_one = r'readthedocs_traffic_analytics_jupyterlab_2023-12-06_2024-03-05.csv'\n",
    "\n",
    "metrics_a = Metrics(csv_to_rows_of_strings(path=day_a))\n",
    "metrics_b = Metrics(csv_to_rows_of_strings(path=day_a_plus_one))\n",
    "metrics_c = Metrics.build(path=[day_a, day_a_plus_one])\n",
    "allmet = [metrics_a, metrics_b, metrics_c]"
   ]
  },
  {
   "cell_type": "code",
   "execution_count": null,
   "id": "3aeee18c-a111-46c5-ac65-1e67a5fc0394",
   "metadata": {},
   "outputs": [],
   "source": [
    "[m.total_views() for m in allmet]"
   ]
  },
  {
   "cell_type": "code",
   "execution_count": null,
   "id": "9b3a52d4-d4f5-44f6-96a7-41d35209d9c5",
   "metadata": {},
   "outputs": [],
   "source": [
    "[m.most_popular_pages(3) for m in allmet]"
   ]
  },
  {
   "cell_type": "code",
   "execution_count": null,
   "id": "b1c34139-a0b6-4cd5-b27f-855eec0c7638",
   "metadata": {},
   "outputs": [],
   "source": [
    "[m.most_popular_versions(3) for m in allmet]"
   ]
  },
  {
   "cell_type": "code",
   "execution_count": null,
   "id": "0def0615-af9d-42a6-a259-9e31c176544b",
   "metadata": {},
   "outputs": [],
   "source": [
    "# Search metrics for subsequent days, merged\n",
    "sday_a = r'readthedocs_search_analytics_jupyterlab_2023-12-05_2024-03-04.csv'\n",
    "sday_a_plus_one = r'readthedocs_search_analytics_jupyterlab_2023-12-06_2024-03-05.csv'\n",
    "\n",
    "smetrics_a = Metrics(csv_to_rows_of_strings(path=sday_a))\n",
    "smetrics_b = Metrics(csv_to_rows_of_strings(path=sday_a_plus_one))\n",
    "smetrics_c = Metrics.build(path=[sday_a, sday_a_plus_one])\n",
    "sallmet = [smetrics_a, smetrics_b, smetrics_c]"
   ]
  },
  {
   "cell_type": "code",
   "execution_count": null,
   "id": "2b9de0fd-0af5-4a1f-97ee-d228de92e15f",
   "metadata": {},
   "outputs": [],
   "source": [
    "smetrics_c.most_popular_queries(10)"
   ]
  },
  {
   "cell_type": "code",
   "execution_count": null,
   "id": "fd9b5af1-73e4-4766-8163-1597b13a0e18",
   "metadata": {},
   "outputs": [],
   "source": [
    "[m.most_popular_queries(8) for m in sallmet]"
   ]
  },
  {
   "cell_type": "code",
   "execution_count": null,
   "id": "4a9ed276-9d16-4f4c-ab7e-971c8d297cd3",
   "metadata": {},
   "outputs": [],
   "source": [
    "most_pop = metrics_c.most_popular_pages(25)\n",
    "fig, ax = plt.subplots()  # Create a figure containing a single axes.\n",
    "ax.invert_yaxis()\n",
    "ax.barh([i[0] for i in most_pop], [i[1] for i in most_pop])  # Plot some data on the axes."
   ]
  },
  {
   "cell_type": "code",
   "execution_count": null,
   "id": "3a6addd7-ee4d-412a-afc2-80da0069e41c",
   "metadata": {},
   "outputs": [],
   "source": []
  }
 ],
 "metadata": {
  "kernelspec": {
   "display_name": "Python 3 (ipykernel)",
   "language": "python",
   "name": "python3"
  },
  "language_info": {
   "codemirror_mode": {
    "name": "ipython",
    "version": 3
   },
   "file_extension": ".py",
   "mimetype": "text/x-python",
   "name": "python",
   "nbconvert_exporter": "python",
   "pygments_lexer": "ipython3",
   "version": "3.11.4"
  }
 },
 "nbformat": 4,
 "nbformat_minor": 5
}
