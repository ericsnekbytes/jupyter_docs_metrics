{
 "cells": [
  {
   "cell_type": "code",
   "execution_count": 167,
   "id": "a886faa3-06d6-4baa-9ebb-25b882c6309b",
   "metadata": {},
   "outputs": [],
   "source": [
    "import csv\n",
    "import io"
   ]
  },
  {
   "cell_type": "code",
   "execution_count": 168,
   "id": "22cea11b-f03a-40c8-b19b-c26b0c7ff8f1",
   "metadata": {},
   "outputs": [],
   "source": [
    "def csv_to_rows_of_strings(csv_string=None, filehandle=None, path=None):\n",
    "    \"\"\"Read a path/csv_string/file obj and spit out rows of string lists.\n",
    "\n",
    "    Specify ONE of csv_string, filehandle, or path (first source found in\n",
    "    that order wins if multiple are provided). Make sure to follow the csv\n",
    "    module instructions (open with newline='') and ensure the encoding is correct\n",
    "    if you provide a filehandle. Paths to files assume a utf-8 encoded file.\n",
    "    CSVs are opened with default csv module settings.\n",
    "\n",
    "    :param csv_string: str, A string containing the contents of a CSV file.\n",
    "    :param filehandle: An open file object (in string mode) to a CSV file.\n",
    "    :param path: str, Path on disk to a CSV file.\n",
    "    \"\"\"\n",
    "\n",
    "    # Dump whatever data source into a BytesIO object,\n",
    "    # then read it with the CSV reader\n",
    "    data = io.StringIO()\n",
    "    if csv_string is not None:\n",
    "        data.write(csv_string)\n",
    "    elif filehandle is not None:\n",
    "        data.write(filehandle.read())\n",
    "    elif path is not None:\n",
    "        with open(path, encoding='utf8', newline='') as csvfile:\n",
    "            data.write(csvfile.read())\n",
    "    else:\n",
    "        raise Exception(\"Must provide a source for data!\")\n",
    "    # Put seek position at 0 (like an unread file)\n",
    "    data.seek(0)\n",
    "\n",
    "    rows = []\n",
    "    reader = csv.reader(data)\n",
    "    for row in reader:\n",
    "        rows.append(row)\n",
    "    return rows"
   ]
  },
  {
   "cell_type": "code",
   "execution_count": 169,
   "id": "e3523a72-f5ef-49ca-bef3-02547bf128a2",
   "metadata": {},
   "outputs": [],
   "source": [
    "traffic_rows = csv_to_rows_of_strings(path=r'readthedocs_traffic_analytics_jupyterlab_2023-10-20_2024-01-18.csv')\n",
    "search_rows = csv_to_rows_of_strings(path=r'readthedocs_search_analytics_jupyterlab_2023-10-20_2024-01-18.csv')"
   ]
  },
  {
   "cell_type": "code",
   "execution_count": 170,
   "id": "5c99c295-eec4-40c6-9288-400b04838799",
   "metadata": {},
   "outputs": [],
   "source": [
    "class RowColumnView:\n",
    "    \"\"\"Gives a row index or column-name indexable list.\n",
    "\n",
    "    Supports:\n",
    "      - \"ColumnName\" in mydata\n",
    "      - for column in mydata.columns():\n",
    "          for cell in column:\n",
    "      - for cell in mydata[\"ColumnName\"]:\n",
    "      - for row in mydata.rows():\n",
    "          for cell in row:\n",
    "      - Use mydata.columns_iter() (or rows) if you want\n",
    "        lazy-load/generators\n",
    "    \"\"\"\n",
    "\n",
    "    def __init__(self, rows_of_strings):\n",
    "        self._rows = rows_of_strings\n",
    "        if len(self._rows) < 2:\n",
    "            raise Exception('Empty CSV!')\n",
    "\n",
    "    def __getitem__(self, item):\n",
    "        # Column names return a column\n",
    "        if isinstance(item, str):\n",
    "            try:\n",
    "                index = self._rows[0].index(item)\n",
    "            except ValueError as err:\n",
    "                raise Exception(\"Column name not found!\") from err\n",
    "            return [row[index] for row in self._rows]\n",
    "        else:\n",
    "            raise ValueError(\"Must provide a string column name!\")\n",
    "\n",
    "    def __contains__(self, item):\n",
    "        if item in self._rows[0]:\n",
    "            return True\n",
    "        return False\n",
    "\n",
    "    def __len__(self):\n",
    "        return len(self._rows)\n",
    "\n",
    "    def rows_iter(self):\n",
    "        # Lazy load\n",
    "        return (row for row in self._rows)\n",
    "\n",
    "    def rows(self):\n",
    "        return list(self.rows_iter())\n",
    "\n",
    "    def columns_iter(self):\n",
    "        # Lazy load\n",
    "        return (self[colname] for colname in self._rows[0])\n",
    "\n",
    "    def columns(self):\n",
    "        return [list(col) for col in self.columns_iter()]"
   ]
  },
  {
   "cell_type": "code",
   "execution_count": 171,
   "id": "e679e473-34b4-4de0-987b-643362ec140b",
   "metadata": {},
   "outputs": [],
   "source": [
    "traffic = RowColumnView(traffic_rows)\n",
    "search = RowColumnView(search_rows)"
   ]
  },
  {
   "cell_type": "code",
   "execution_count": 172,
   "id": "c6adb433-96a9-45e6-a1eb-0c0abf2615cf",
   "metadata": {},
   "outputs": [
    {
     "data": {
      "text/plain": [
       "[['Date', 'Version', 'Path', 'Views'],\n",
       " ['2024-01-18 00:00:00', 'stable', '/user/file_editor.html', '29'],\n",
       " ['2024-01-18 00:00:00', 'stable', '/getting_started/changelog.html', '35'],\n",
       " ['2024-01-18 00:00:00', 'latest', '/extension/virtualdom.html', '8']]"
      ]
     },
     "execution_count": 172,
     "metadata": {},
     "output_type": "execute_result"
    }
   ],
   "source": [
    "traffic.rows()[:4]"
   ]
  },
  {
   "cell_type": "code",
   "execution_count": 173,
   "id": "cd65606b-72e1-471b-ac2a-1f0e73c81e54",
   "metadata": {},
   "outputs": [
    {
     "data": {
      "text/plain": [
       "[['Created Date', 'Query', 'Total Results'],\n",
       " ['2024-01-18 16:03:50', 'manager', '18'],\n",
       " ['2024-01-18 16:03:43', 'mappingkernelmanager', '0'],\n",
       " ['2024-01-18 15:47:24', 'mapping', '2']]"
      ]
     },
     "execution_count": 173,
     "metadata": {},
     "output_type": "execute_result"
    }
   ],
   "source": [
    "search.rows()[:4]"
   ]
  },
  {
   "cell_type": "code",
   "execution_count": 174,
   "id": "52f94581-d531-46ce-aa59-e1ba58d9ec77",
   "metadata": {},
   "outputs": [
    {
     "data": {
      "text/plain": [
       "[['Created Date', 'Query', 'Total Results'],\n",
       " ['2024-01-16 16:49:29', 't kinter', '97'],\n",
       " ['2023-11-05 13:53:29', 'delete hidden cells', '95'],\n",
       " ['2023-12-03 17:48:58', 'hidden cells', '95'],\n",
       " ['2023-12-21 17:47:37', 'application', '95'],\n",
       " ['2023-11-05 13:46:49', 'hidden cells', '94'],\n",
       " ['2023-10-27 16:36:10', 'cells', '93'],\n",
       " ['2023-11-05 17:29:28', 'module', '93'],\n",
       " ['2024-01-09 06:26:04',\n",
       "  'the default implementation of the editor model.',\n",
       "  '93'],\n",
       " ['2023-10-20 07:59:45', 'installation', '9'],\n",
       " ['2023-10-20 08:16:26', 'template', '9'],\n",
       " ['2023-10-20 08:51:47', 'shortcut', '9'],\n",
       " ['2023-10-20 21:50:28', 'shortcut', '9'],\n",
       " ['2023-10-21 14:05:39', 'hdfs location', '9'],\n",
       " ['2023-10-21 15:27:49', 'debug', '9'],\n",
       " ['2023-10-22 17:02:21', 'shortcut', '9'],\n",
       " ['2023-10-22 17:28:16', 'shortcut', '9'],\n",
       " ['2023-10-22 19:09:09', 'shortcut', '9'],\n",
       " ['2023-10-23 03:38:44', 'template', '9'],\n",
       " ['2023-10-23 17:00:31', 'shortcut', '9'],\n",
       " ['2023-10-24 02:02:56', 'config', '9'],\n",
       " ['2023-10-24 08:02:23', 'connect remote', '9'],\n",
       " ['2023-10-24 12:29:53', 'token port', '9'],\n",
       " ['2023-10-25 00:41:52', 'jlpm', '9'],\n",
       " ['2023-10-25 08:37:56', 'config', '9'],\n",
       " ['2023-10-25 10:15:46', 'config port', '9'],\n",
       " ['2023-10-25 13:26:07', 'shortcut', '9'],\n",
       " ['2023-10-25 16:24:42', 'shortcut', '9'],\n",
       " ['2023-10-25 23:54:46', '@config', '9'],\n",
       " ['2023-10-26 04:06:56', 'icon', '9'],\n",
       " ['2023-10-26 07:37:31', 'shortcut', '9'],\n",
       " ['2023-10-26 08:12:27', 'connection reset', '9']]"
      ]
     },
     "execution_count": 174,
     "metadata": {},
     "output_type": "execute_result"
    }
   ],
   "source": [
    "list(reversed(sorted(search.rows(), key=lambda k: k[2])))[:32]"
   ]
  },
  {
   "cell_type": "code",
   "execution_count": null,
   "id": "c7af0378-6383-4c9e-89c9-8b2fd366c6a6",
   "metadata": {},
   "outputs": [],
   "source": []
  }
 ],
 "metadata": {
  "kernelspec": {
   "display_name": "Python 3 (ipykernel)",
   "language": "python",
   "name": "python3"
  },
  "language_info": {
   "codemirror_mode": {
    "name": "ipython",
    "version": 3
   },
   "file_extension": ".py",
   "mimetype": "text/x-python",
   "name": "python",
   "nbconvert_exporter": "python",
   "pygments_lexer": "ipython3",
   "version": "3.11.4"
  }
 },
 "nbformat": 4,
 "nbformat_minor": 5
}
